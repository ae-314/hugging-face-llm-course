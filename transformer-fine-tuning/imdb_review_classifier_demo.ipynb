{
  "nbformat": 4,
  "nbformat_minor": 0,
  "metadata": {
    "colab": {
      "machine_shape": "hm",
      "gpuType": "T4",
      "provenance": []
    },
    "accelerator": "GPU",
    "kaggle": {
      "accelerator": "gpu"
    },
    "language_info": {
      "name": "python"
    },
    "kernelspec": {
      "name": "python3",
      "display_name": "Python 3"
    }
},
  "cells": [
    {
      "cell_type": "code",
      "source": [
        "# aaron e\n",
        "# ae-314\n",
        "\n",
        "# Trying out my fine-tuned DistilBERT model for text classification (review sentiment : negative vs. positive)\n",
        "\n",
        "# I'll use the pipeline and write 3 of my own example film reviews to test the model:"
      ],
      "metadata": {
        "id": "lpzp9ku4LDl3"
      },
      "execution_count": null,
      "outputs": []
    },
    {
      "cell_type": "code",
      "source": [
        "!pip install -U transformers"
      ],
      "metadata": {
        "id": "rDpeLdDjJiFp",
        "colab": {
          "base_uri": "https://localhost:8080/"
        },
        "collapsed": true,
        "outputId": "278a378f-a6a3-4659-88e4-f0223a4e5e14"
      },
      "execution_count": 1,
      "outputs": [
        {
          "output_type": "stream",
          "name": "stdout",
          "text": [
            "Requirement already satisfied: transformers in /usr/local/lib/python3.12/dist-packages (4.57.0)\n",
            "Collecting transformers\n",
            "  Downloading transformers-4.57.1-py3-none-any.whl.metadata (43 kB)\n",
            "\u001b[2K     \u001b[90m━━━━━━━━━━━━━━━━━━━━━━━━━━━━━━━━━━━━━━━━\u001b[0m \u001b[32m44.0/44.0 kB\u001b[0m \u001b[31m1.9 MB/s\u001b[0m eta \u001b[36m0:00:00\u001b[0m\n",
            "\u001b[?25hRequirement already satisfied: filelock in /usr/local/lib/python3.12/dist-packages (from transformers) (3.20.0)\n",
            "Requirement already satisfied: huggingface-hub<1.0,>=0.34.0 in /usr/local/lib/python3.12/dist-packages (from transformers) (0.35.3)\n",
            "Requirement already satisfied: numpy>=1.17 in /usr/local/lib/python3.12/dist-packages (from transformers) (2.0.2)\n",
            "Requirement already satisfied: packaging>=20.0 in /usr/local/lib/python3.12/dist-packages (from transformers) (25.0)\n",
            "Requirement already satisfied: pyyaml>=5.1 in /usr/local/lib/python3.12/dist-packages (from transformers) (6.0.3)\n",
            "Requirement already satisfied: regex!=2019.12.17 in /usr/local/lib/python3.12/dist-packages (from transformers) (2024.11.6)\n",
            "Requirement already satisfied: requests in /usr/local/lib/python3.12/dist-packages (from transformers) (2.32.4)\n",
            "Requirement already satisfied: tokenizers<=0.23.0,>=0.22.0 in /usr/local/lib/python3.12/dist-packages (from transformers) (0.22.1)\n",
            "Requirement already satisfied: safetensors>=0.4.3 in /usr/local/lib/python3.12/dist-packages (from transformers) (0.6.2)\n",
            "Requirement already satisfied: tqdm>=4.27 in /usr/local/lib/python3.12/dist-packages (from transformers) (4.67.1)\n",
            "Requirement already satisfied: fsspec>=2023.5.0 in /usr/local/lib/python3.12/dist-packages (from huggingface-hub<1.0,>=0.34.0->transformers) (2025.3.0)\n",
            "Requirement already satisfied: typing-extensions>=3.7.4.3 in /usr/local/lib/python3.12/dist-packages (from huggingface-hub<1.0,>=0.34.0->transformers) (4.15.0)\n",
            "Requirement already satisfied: hf-xet<2.0.0,>=1.1.3 in /usr/local/lib/python3.12/dist-packages (from huggingface-hub<1.0,>=0.34.0->transformers) (1.1.10)\n",
            "Requirement already satisfied: charset_normalizer<4,>=2 in /usr/local/lib/python3.12/dist-packages (from requests->transformers) (3.4.3)\n",
            "Requirement already satisfied: idna<4,>=2.5 in /usr/local/lib/python3.12/dist-packages (from requests->transformers) (3.10)\n",
            "Requirement already satisfied: urllib3<3,>=1.21.1 in /usr/local/lib/python3.12/dist-packages (from requests->transformers) (2.5.0)\n",
            "Requirement already satisfied: certifi>=2017.4.17 in /usr/local/lib/python3.12/dist-packages (from requests->transformers) (2025.10.5)\n",
            "Downloading transformers-4.57.1-py3-none-any.whl (12.0 MB)\n",
            "\u001b[2K   \u001b[90m━━━━━━━━━━━━━━━━━━━━━━━━━━━━━━━━━━━━━━━━\u001b[0m \u001b[32m12.0/12.0 MB\u001b[0m \u001b[31m87.7 MB/s\u001b[0m eta \u001b[36m0:00:00\u001b[0m\n",
            "\u001b[?25hInstalling collected packages: transformers\n",
            "  Attempting uninstall: transformers\n",
            "    Found existing installation: transformers 4.57.0\n",
            "    Uninstalling transformers-4.57.0:\n",
            "      Successfully uninstalled transformers-4.57.0\n",
            "Successfully installed transformers-4.57.1\n"
          ]
        }
      ]
    },
    {
      "cell_type": "markdown",
      "source": [
        "## Local Inference on GPU\n",
        "Model page: https://huggingface.co/ae-314/imdb_review_classifier\n",
        "\n",
        "⚠️ If the generated code snippets do not work, please open an issue on either the [model repo](https://huggingface.co/ae-314/imdb_review_classifier)\n",
        "\t\t\tand/or on [huggingface.js](https://github.com/huggingface/huggingface.js/blob/main/packages/tasks/src/model-libraries-snippets.ts) 🙏"
      ],
      "metadata": {
        "id": "-b0JopIPJiFq"
      }
    },
    {
      "cell_type": "code",
      "source": [
        "# Use a pipeline as a high-level helper\n",
        "from transformers import pipeline\n",
        "\n",
        "pipe = pipeline(\"text-classification\", model=\"ae-314/imdb_review_classifier\")"
      ],
      "metadata": {
        "id": "0fT1SaUFJiFs",
        "outputId": "d42c1f87-3864-4afa-8a37-549ced177bc4",
        "colab": {
          "base_uri": "https://localhost:8080/",
          "height": 353,
          "referenced_widgets": [
            "fa3374e8be8548898b1fff66cd8e0ec9",
            "aa495878b2ad486d92cda21586d4ee00",
            "40ea907282c445dd8230342087e253ef",
            "d63f9f3af17042ff957da74cb0093416",
            "3e071b92b5584ecd86a595f4759b3064",
            "4211aad7e20a4c7bb34090163205655a",
            "4ec7acb6a3974597b307995451c8d137",
            "b2908ae5e5b2421189629fd41cf77299",
            "8193244b4c694ce79a2da2e4203165a3",
            "44c2d49baf3b4fbd894d540e3eac8edb",
            "913ba6454d8045d5a88d1a9b09c40627",
            "42b01db0e0464a9eb203aedc7d6a33c1",
            "6d28e4d4975b43ffb494f344fcca5c58",
            "2595358e46da43e481021f6f1657247f",
            "80aff0b238ef4853b0a139c3a834429e",
            "9658708bd83a45b28e532b5d56ff869a",
            "d4b0b385da094e66ba6ab3b2a61eddaa",
            "73fedb03247143769714c6982381e5f7",
            "0b50b52e722145f782ae688770be521a",
            "9e9c8dfe566f4e6ca4b36daca028e385",
            "aefeee06ae41407c9887a9625d8a805a",
            "f9c03c87860d4d508ac13222143d897a",
            "2b23fe25ff214a53a424c5b15659993d",
            "2d0e3dc3b19c4c07aca8b7ef27a4a665",
            "97c3ce64bc884e0fb72ff3b3855f8260",
            "abd9017ac52e4c21baddb93579814e21",
            "efc1428c8b8b4ae192e7c3828eb3e614",
            "a9c43815911d451ba8a8bf5f4a195302",
            "3677cb8d793543e4a17fb9661707241c",
            "85c101ce53c748c5965243daba3f33b1",
            "22f6f4977ed947f5ae5f2749be0f626b",
            "5cdb6c95d9df490fbe7c4eaace426acc",
            "02fd137d7ebf4f1db89ef68966a61282",
            "ef2375bb108c4f779bc2d0b048f5b321",
            "8d2f739cb0ec4cb09ed9463220b0f651",
            "16f4527ffc704ea7baf66eaecf8d857d",
            "1972caa55a874961a3ff7f0840194e27",
            "37e412daf1c544a48d15303979acc468",
            "ac8ee2fd77f34c83b1ef8778e79982f0",
            "1fe86716ea954f2799d469240db8fdde",
            "cf9dd94770c645a4afac51fa501eb2ae",
            "557b7040a08c43be9fa15c5d0fcaf6ea",
            "0b084d842ad5461982544c82f890d1fd",
            "a8b9de8d3dd24b9c979da793e9e2c024",
            "77e1773caca1417087a337fa44a731c9",
            "989dab648cb54c3cbc89f4d24fc6eedc",
            "14c8eaf3970e4b8cb2542178b2ef7fcb",
            "0d72b86eb588439e9bacc797e45dff5b",
            "02abd3069dd049aebc494c068a01a14a",
            "4f6eb02dc0804e0d89a69d7d4bbb6a18",
            "79732748d41d4b01aa877c10d720ea8e",
            "69303fea30284a14a0cb43426d57452d",
            "81027a8d76a043a8b67a848016ef788b",
            "bd6e76e2bc444488b987a385a9c5219d",
            "55cd5fda39904bf0b397eaebf457c212",
            "4b107c0430e84575ae88ea5d6e04875b",
            "e8448229c9944129af92257ce086a63b",
            "ac402e53c25f4dc8b901e228f9e00075",
            "672f39b7a83a46b8afc8588fe0a5c9ad",
            "82ca50a03db64ee28309c89342e94132",
            "0459bb541e8642edaa1005a5c4ca2624",
            "378e919b322a40ed9528229bf6ac044c",
            "e6d8f7456d6d4c22856e8c08e31c5361",
            "7d4f67ca18244eb0a5c5cb843176b2a8",
            "fa6ec22230a54ac48a96327ed48fe75b",
            "6b28e26f77304beda7ddce54dab133db"
          ]
        },
        "collapsed": true
      },
      "execution_count": 2,
      "outputs": [
        {
          "output_type": "stream",
          "name": "stderr",
          "text": [
            "/usr/local/lib/python3.12/dist-packages/huggingface_hub/utils/_auth.py:94: UserWarning: \n",
            "The secret `HF_TOKEN` does not exist in your Colab secrets.\n",
            "To authenticate with the Hugging Face Hub, create a token in your settings tab (https://huggingface.co/settings/tokens), set it as secret in your Google Colab and restart your session.\n",
            "You will be able to reuse this secret in all of your notebooks.\n",
            "Please note that authentication is recommended but still optional to access public models or datasets.\n",
            "  warnings.warn(\n"
          ]
        },
        {
          "output_type": "display_data",
          "data": {
            "text/plain": [
              "config.json:   0%|          | 0.00/683 [00:00<?, ?B/s]"
            ],
            "application/vnd.jupyter.widget-view+json": {
              "version_major": 2,
              "version_minor": 0,
              "model_id": "fa3374e8be8548898b1fff66cd8e0ec9"
            }
          },
          "metadata": {}
        },
        {
          "output_type": "display_data",
          "data": {
            "text/plain": [
              "model.safetensors:   0%|          | 0.00/268M [00:00<?, ?B/s]"
            ],
            "application/vnd.jupyter.widget-view+json": {
              "version_major": 2,
              "version_minor": 0,
              "model_id": "42b01db0e0464a9eb203aedc7d6a33c1"
            }
          },
          "metadata": {}
        },
        {
          "output_type": "display_data",
          "data": {
            "text/plain": [
              "tokenizer_config.json: 0.00B [00:00, ?B/s]"
            ],
            "application/vnd.jupyter.widget-view+json": {
              "version_major": 2,
              "version_minor": 0,
              "model_id": "2b23fe25ff214a53a424c5b15659993d"
            }
          },
          "metadata": {}
        },
        {
          "output_type": "display_data",
          "data": {
            "text/plain": [
              "vocab.txt: 0.00B [00:00, ?B/s]"
            ],
            "application/vnd.jupyter.widget-view+json": {
              "version_major": 2,
              "version_minor": 0,
              "model_id": "ef2375bb108c4f779bc2d0b048f5b321"
            }
          },
          "metadata": {}
        },
        {
          "output_type": "display_data",
          "data": {
            "text/plain": [
              "tokenizer.json: 0.00B [00:00, ?B/s]"
            ],
            "application/vnd.jupyter.widget-view+json": {
              "version_major": 2,
              "version_minor": 0,
              "model_id": "77e1773caca1417087a337fa44a731c9"
            }
          },
          "metadata": {}
        },
        {
          "output_type": "display_data",
          "data": {
            "text/plain": [
              "special_tokens_map.json:   0%|          | 0.00/125 [00:00<?, ?B/s]"
            ],
            "application/vnd.jupyter.widget-view+json": {
              "version_major": 2,
              "version_minor": 0,
              "model_id": "4b107c0430e84575ae88ea5d6e04875b"
            }
          },
          "metadata": {}
        },
        {
          "output_type": "stream",
          "name": "stderr",
          "text": [
            "Device set to use cuda:0\n"
          ]
        }
      ]
    },
    {
      "cell_type": "code",
      "source": [
        "text_negative = \"Wow, this was such a questionable film. What even was going on here? Not worth the three hours.\"\n",
        "\n",
        "pipe(text_negative)"
      ],
      "metadata": {
        "id": "8kLCYP2DKTrm",
        "outputId": "6d1dad64-cc0b-4391-918a-492bca4264c6",
        "colab": {
          "base_uri": "https://localhost:8080/"
        }
      },
      "execution_count": 6,
      "outputs": [
        {
          "output_type": "execute_result",
          "data": {
            "text/plain": [
              "[{'label': 'NEGATIVE', 'score': 0.972713828086853}]"
            ]
          },
          "metadata": {},
          "execution_count": 6
        }
      ]
    },
    {
      "cell_type": "code",
      "source": [
        "text_positive = \"Another really strong film from the breakout directors. While not being as supernaturally creepy as their first film, viewers are still treated to an absolute masterpiece of body horror and tension.\"\n",
        "\n",
        "pipe(text_positive)\n"
      ],
      "metadata": {
        "colab": {
          "base_uri": "https://localhost:8080/"
        },
        "id": "w6jKsjSsMFAG",
        "outputId": "486e4238-843a-4271-d0c7-0c318f292cbd"
      },
      "execution_count": 4,
      "outputs": [
        {
          "output_type": "execute_result",
          "data": {
            "text/plain": [
              "[{'label': 'POSITIVE', 'score': 0.9926081895828247}]"
            ]
          },
          "metadata": {},
          "execution_count": 4
        }
      ]
    },
    {
      "cell_type": "code",
      "source": [
        "text_ambig = \"Great, another fantastic example of lazy writing and relying too heavily on visual effects that probably look amazing if you are watching the film on a potato. Otherwise, wow, is all I can say.\"\n",
        "\n",
        "pipe(text_ambig)"
      ],
      "metadata": {
        "colab": {
          "base_uri": "https://localhost:8080/"
        },
        "id": "C9kUqwAGNSzZ",
        "outputId": "2360590d-5c31-47c0-9af3-35727bfa8623"
      },
      "execution_count": 7,
      "outputs": [
        {
          "output_type": "execute_result",
          "data": {
            "text/plain": [
              "[{'label': 'NEGATIVE', 'score': 0.8632524013519287}]"
            ]
          },
          "metadata": {},
          "execution_count": 7
        }
      ]
    },
    {
      "cell_type": "code",
      "source": [
        "# Load model directly\n",
        "from transformers import AutoTokenizer, AutoModelForSequenceClassification\n",
        "\n",
        "tokenizer = AutoTokenizer.from_pretrained(\"ae-314/imdb_review_classifier\")\n",
        "model = AutoModelForSequenceClassification.from_pretrained(\"ae-314/imdb_review_classifier\")"
      ],
      "metadata": {
        "id": "yUPO8UHjJiFt"
      },
      "execution_count": null,
      "outputs": []
    }
  ]
}
