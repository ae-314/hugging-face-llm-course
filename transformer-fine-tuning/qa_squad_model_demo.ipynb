{
  "nbformat": 4,
  "nbformat_minor": 0,
  "metadata": {
    "colab": {
      "provenance": []
    },
    "kaggle": {
      "accelerator": "gpu"
    },
    "language_info": {
      "name": "python"
    },
    "kernelspec": {
      "name": "python3",
      "display_name": "Python 3"
    }
},
    
  "cells": [
    {
      "cell_type": "code",
      "source": [
        "# aaron e\n",
        "# ae-314\n",
        "# question and answering demo with examples\n",
        "\n",
        "!pip install -U transformers"
      ],
      "metadata": {
        "id": "VPqwLNeNNr2u",
        "colab": {
          "base_uri": "https://localhost:8080/"
        },
        "outputId": "5ea9f131-b17d-4585-a61c-0b0e7dd1821e"
      },
      "execution_count": 1,
      "outputs": [
        {
          "output_type": "stream",
          "name": "stdout",
          "text": [
            "Requirement already satisfied: transformers in /usr/local/lib/python3.12/dist-packages (4.57.1)\n",
            "Requirement already satisfied: filelock in /usr/local/lib/python3.12/dist-packages (from transformers) (3.20.0)\n",
            "Requirement already satisfied: huggingface-hub<1.0,>=0.34.0 in /usr/local/lib/python3.12/dist-packages (from transformers) (0.35.3)\n",
            "Requirement already satisfied: numpy>=1.17 in /usr/local/lib/python3.12/dist-packages (from transformers) (2.0.2)\n",
            "Requirement already satisfied: packaging>=20.0 in /usr/local/lib/python3.12/dist-packages (from transformers) (25.0)\n",
            "Requirement already satisfied: pyyaml>=5.1 in /usr/local/lib/python3.12/dist-packages (from transformers) (6.0.3)\n",
            "Requirement already satisfied: regex!=2019.12.17 in /usr/local/lib/python3.12/dist-packages (from transformers) (2024.11.6)\n",
            "Requirement already satisfied: requests in /usr/local/lib/python3.12/dist-packages (from transformers) (2.32.4)\n",
            "Requirement already satisfied: tokenizers<=0.23.0,>=0.22.0 in /usr/local/lib/python3.12/dist-packages (from transformers) (0.22.1)\n",
            "Requirement already satisfied: safetensors>=0.4.3 in /usr/local/lib/python3.12/dist-packages (from transformers) (0.6.2)\n",
            "Requirement already satisfied: tqdm>=4.27 in /usr/local/lib/python3.12/dist-packages (from transformers) (4.67.1)\n",
            "Requirement already satisfied: fsspec>=2023.5.0 in /usr/local/lib/python3.12/dist-packages (from huggingface-hub<1.0,>=0.34.0->transformers) (2025.3.0)\n",
            "Requirement already satisfied: typing-extensions>=3.7.4.3 in /usr/local/lib/python3.12/dist-packages (from huggingface-hub<1.0,>=0.34.0->transformers) (4.15.0)\n",
            "Requirement already satisfied: hf-xet<2.0.0,>=1.1.3 in /usr/local/lib/python3.12/dist-packages (from huggingface-hub<1.0,>=0.34.0->transformers) (1.1.10)\n",
            "Requirement already satisfied: charset_normalizer<4,>=2 in /usr/local/lib/python3.12/dist-packages (from requests->transformers) (3.4.4)\n",
            "Requirement already satisfied: idna<4,>=2.5 in /usr/local/lib/python3.12/dist-packages (from requests->transformers) (3.11)\n",
            "Requirement already satisfied: urllib3<3,>=1.21.1 in /usr/local/lib/python3.12/dist-packages (from requests->transformers) (2.5.0)\n",
            "Requirement already satisfied: certifi>=2017.4.17 in /usr/local/lib/python3.12/dist-packages (from requests->transformers) (2025.10.5)\n"
          ]
        }
      ]
    },
    {
      "cell_type": "markdown",
      "source": [
        "## Local Inference on GPU\n",
        "Model page: https://huggingface.co/ae-314/question_answering_model\n",
        "\n",
        "⚠️ If the generated code snippets do not work, please open an issue on either the [model repo](https://huggingface.co/ae-314/question_answering_model)\n",
        "\t\t\tand/or on [huggingface.js](https://github.com/huggingface/huggingface.js/blob/main/packages/tasks/src/model-libraries-snippets.ts) 🙏"
      ],
      "metadata": {
        "id": "acrNoNXvNr2v"
      }
    },
    {
      "cell_type": "code",
      "source": [
        "# Use a pipeline as a high-level helper\n",
        "from transformers import pipeline\n",
        "\n",
        "pipe = pipeline(\"question-answering\", model=\"ae-314/question_answering_model\")"
      ],
      "metadata": {
        "id": "5jqYQ92YNr2y",
        "colab": {
          "base_uri": "https://localhost:8080/",
          "height": 353,
          "referenced_widgets": [
            "f6ac815b98e64d5f894acc5ddc78cc17",
            "fffdffb8541f4324bc3465c2f40376b2",
            "3a17cae35b9e486caa96fdcfb04e3c1e",
            "42b72b62070a418c8008b4d96fe943cd",
            "367f57702d1a4a21ad43cc6dc574033c",
            "4a4b04b3f6cd4a85b1270976116cfb4f",
            "15b3b8cbcb4a419daa93da1011ba7757",
            "10defd54a3184f4488c442c0c71339d0",
            "3b475a373fe34862b6e01da2c0f9d126",
            "dc361e83868149548ff90939a24a3ade",
            "37fadacde9af4e6ba5b51505720957a4",
            "3c5e16ecffbb4c11b3746291c5ac41b5",
            "9be546c65a2a49f5ad2d2371166cc380",
            "05cd9686c95b43a28f81bb313e59bbcf",
            "3e7705ef3b7149c0b8e20493b212a3cf",
            "6a14f4e354594ac69e4726b896b47d29",
            "fd1f9a29cd9b4bfa92b150dc641680bd",
            "42858ac50dc14d5f8f83b917478c4513",
            "49f9ff4edc984c688952a8cfe6204058",
            "064b59ca923f42c4b42a672dd06ceeb9",
            "6ebaba52461f48c7be950f1f02576469",
            "36518f9ef1fb41ac88c826e6ea99f3e8",
            "b9cd1580ab854398961b2ce916cda16f",
            "f4f52b4ce457462faf905bc1a0e2a426",
            "40e03fda863046ec9d2f114a136ca57b",
            "9e07fb8151624129a9a74df118a6b0ea",
            "69dff753237842f29941e59c946b9481",
            "7feacaeffd7c49a9b4a9bc9a474b06a4",
            "12c731081a194477880cd8264e71947b",
            "d917befbbcde41e4a6a3ee254a897a07",
            "94f5383323b845e795e4596c223620df",
            "f501f047d3d24519af6ba44ab685048c",
            "09eadcc27cda4a258ea2960eedaa1563",
            "57123f9b46204fc7993bd0091280065f",
            "cedc75657a1a429594b4b9efcbbd79de",
            "036e062653df4c91bc8373a5ac1e3dd0",
            "126fd9c0a9e7437f825de58493133850",
            "073b85621e7742339797ffded4eef689",
            "29b555d47b604e368411eb0e36a730f9",
            "d25870493070441a9f9c6bf1b3a4933a",
            "c170936948ce4c2b83f91d20e5fba523",
            "b76641bd796a4fc0ad923a3f26900c0d",
            "40644eddeaa54bb9a281912c1c7ba38b",
            "39b33ef5bc7f40f79aca8593299b84fe",
            "0898641630974175b76a53728e464815",
            "73f5800947914be096594a0a517341bc",
            "c5c99eaec89b4103b44b025ad1b1bfb8",
            "8e083ecf206f454195099bb34b598b96",
            "17fc97482ee54f33904381fac7d6a295",
            "0ff78a62f4d2495cac4bda788af23c52",
            "bd4f437aa2cf49daaf02d1bd84695caa",
            "bb28b2c66bf240f6b635643dadaa6953",
            "2d4bb3b57d5b46ccbed17145b4673b4c",
            "602a24d75ec54b91932de84001942b7f",
            "77bfd842bacc4d2990cced42b281bce7",
            "5a02c69cd53442139ff792cb5f823194",
            "f0ab282e8fa648e3904152b342feea6f",
            "4a0a5d4529ac4143b506528611a041b5",
            "9d70affcbcce4a33bd06dabdb9a0567a",
            "b4f374f1244d4cb5b59f8e2df5e3b6ad",
            "83a8bda43c1a4a549fde1f04bc1d1327",
            "09cb0d45c76f4dcdbcf6c8af579052c1",
            "884fe06764f54aa9acc90d4224d77b99",
            "1c4998ab52b4457193765295ee356c92",
            "4f0f601812574b088585d9570d31d359",
            "85ba0faa4a614ecc961ce12a7ed0f6eb"
          ]
        },
        "outputId": "f965d7cf-124a-416f-9d2e-7fe76f972125"
      },
      "execution_count": 2,
      "outputs": [
        {
          "output_type": "stream",
          "name": "stderr",
          "text": [
            "/usr/local/lib/python3.12/dist-packages/huggingface_hub/utils/_auth.py:94: UserWarning: \n",
            "The secret `HF_TOKEN` does not exist in your Colab secrets.\n",
            "To authenticate with the Hugging Face Hub, create a token in your settings tab (https://huggingface.co/settings/tokens), set it as secret in your Google Colab and restart your session.\n",
            "You will be able to reuse this secret in all of your notebooks.\n",
            "Please note that authentication is recommended but still optional to access public models or datasets.\n",
            "  warnings.warn(\n"
          ]
        },
        {
          "output_type": "display_data",
          "data": {
            "text/plain": [
              "config.json:   0%|          | 0.00/535 [00:00<?, ?B/s]"
            ],
            "application/vnd.jupyter.widget-view+json": {
              "version_major": 2,
              "version_minor": 0,
              "model_id": "f6ac815b98e64d5f894acc5ddc78cc17"
            }
          },
          "metadata": {}
        },
        {
          "output_type": "display_data",
          "data": {
            "text/plain": [
              "model.safetensors:   0%|          | 0.00/265M [00:00<?, ?B/s]"
            ],
            "application/vnd.jupyter.widget-view+json": {
              "version_major": 2,
              "version_minor": 0,
              "model_id": "3c5e16ecffbb4c11b3746291c5ac41b5"
            }
          },
          "metadata": {}
        },
        {
          "output_type": "display_data",
          "data": {
            "text/plain": [
              "tokenizer_config.json: 0.00B [00:00, ?B/s]"
            ],
            "application/vnd.jupyter.widget-view+json": {
              "version_major": 2,
              "version_minor": 0,
              "model_id": "b9cd1580ab854398961b2ce916cda16f"
            }
          },
          "metadata": {}
        },
        {
          "output_type": "display_data",
          "data": {
            "text/plain": [
              "vocab.txt: 0.00B [00:00, ?B/s]"
            ],
            "application/vnd.jupyter.widget-view+json": {
              "version_major": 2,
              "version_minor": 0,
              "model_id": "57123f9b46204fc7993bd0091280065f"
            }
          },
          "metadata": {}
        },
        {
          "output_type": "display_data",
          "data": {
            "text/plain": [
              "tokenizer.json: 0.00B [00:00, ?B/s]"
            ],
            "application/vnd.jupyter.widget-view+json": {
              "version_major": 2,
              "version_minor": 0,
              "model_id": "0898641630974175b76a53728e464815"
            }
          },
          "metadata": {}
        },
        {
          "output_type": "display_data",
          "data": {
            "text/plain": [
              "special_tokens_map.json:   0%|          | 0.00/125 [00:00<?, ?B/s]"
            ],
            "application/vnd.jupyter.widget-view+json": {
              "version_major": 2,
              "version_minor": 0,
              "model_id": "5a02c69cd53442139ff792cb5f823194"
            }
          },
          "metadata": {}
        },
        {
          "output_type": "stream",
          "name": "stderr",
          "text": [
            "Device set to use cpu\n"
          ]
        }
      ]
    },
    {
      "cell_type": "code",
      "source": [
        "question = \"Why can't parasitic plants use photosynthesis?\"\n",
        "context = \"Plants largely make their energy using photosynthesis, except for parasitic plants which have lost the genes for chlorophyll and so can't use photosynthesis and so must use other plants or fungi for energy.\""
      ],
      "metadata": {
        "id": "gNHjfmJgOgRU"
      },
      "execution_count": 4,
      "outputs": []
    },
    {
      "cell_type": "code",
      "source": [
        "pipe(question = question, context=context)"
      ],
      "metadata": {
        "colab": {
          "base_uri": "https://localhost:8080/"
        },
        "id": "9KbTWuNQQm-1",
        "outputId": "d7418aff-163a-4c0f-d544-01a6c9f254e6"
      },
      "execution_count": 5,
      "outputs": [
        {
          "output_type": "execute_result",
          "data": {
            "text/plain": [
              "{'score': 0.45943883061408997,\n",
              " 'start': 94,\n",
              " 'end': 124,\n",
              " 'answer': 'lost the genes for chlorophyll'}"
            ]
          },
          "metadata": {},
          "execution_count": 5
        }
      ]
    }
  ]
}